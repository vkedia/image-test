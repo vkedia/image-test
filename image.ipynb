{
 "cells": [
  {
   "cell_type": "markdown",
   "id": "bb1ea08a",
   "metadata": {},
   "source": [
    "This is a sample screen showing comparison of individual rows in the data set\n",
    "![Row comparison](images/ComparisonRow.png)"
   ]
  }
 ],
 "metadata": {
  "language_info": {
   "name": "python"
  }
 },
 "nbformat": 4,
 "nbformat_minor": 5
}
